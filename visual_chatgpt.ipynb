{
  "nbformat": 4,
  "nbformat_minor": 0,
  "metadata": {
    "colab": {
      "provenance": [],
      "include_colab_link": true
    },
    "kernelspec": {
      "name": "python3",
      "display_name": "Python 3"
    },
    "language_info": {
      "name": "python"
    },
    "accelerator": "GPU",
    "gpuClass": "standard"
  },
  "cells": [
    {
      "cell_type": "markdown",
      "metadata": {
        "id": "view-in-github",
        "colab_type": "text"
      },
      "source": [
        "<a href=\"https://colab.research.google.com/github/shourjya00/Advance-e-commerce-site/blob/main/visual_chatgpt.ipynb\" target=\"_parent\"><img src=\"https://colab.research.google.com/assets/colab-badge.svg\" alt=\"Open In Colab\"/></a>"
      ]
    },
    {
      "cell_type": "code",
      "execution_count": null,
      "metadata": {
        "colab": {
          "base_uri": "https://localhost:8080/"
        },
        "id": "yzl-hRii-Us6",
        "outputId": "4a186684-73fe-4457-ab70-9ab4e06bc583"
      },
      "outputs": [
        {
          "output_type": "stream",
          "name": "stdout",
          "text": [
            "Cloning into 'visual-chatgpt'...\n",
            "remote: Enumerating objects: 99, done.\u001b[K\n",
            "remote: Counting objects: 100% (46/46), done.\u001b[K\n",
            "remote: Compressing objects: 100% (29/29), done.\u001b[K\n",
            "remote: Total 99 (delta 28), reused 34 (delta 17), pack-reused 53\u001b[K\n",
            "Unpacking objects: 100% (99/99), 6.12 MiB | 8.73 MiB/s, done.\n"
          ]
        }
      ],
      "source": [
        "# Visual chatgpt colab support\n",
        "# Author: Rupesh Sreeraman\n",
        "# Supports text to image,ImageCaptioning,BLIP VQA,image to canny\n",
        "# Modified for colab support https://github.com/rupeshs/visual-chatgpt/tree/add-colab-support\n",
        "\n",
        "!git clone https://github.com/rupeshs/visual-chatgpt.git"
      ]
    },
    {
      "cell_type": "code",
      "source": [
        "%cd visual-chatgpt/"
      ],
      "metadata": {
        "colab": {
          "base_uri": "https://localhost:8080/"
        },
        "id": "xOWfi0EyBlQ5",
        "outputId": "45eb73d1-80ba-4b9c-cf9c-0061c435215e"
      },
      "execution_count": null,
      "outputs": [
        {
          "output_type": "stream",
          "name": "stdout",
          "text": [
            "/content/visual-chatgpt\n"
          ]
        }
      ]
    },
    {
      "cell_type": "markdown",
      "source": [],
      "metadata": {
        "id": "TcP1eekPFZxp"
      }
    },
    {
      "cell_type": "code",
      "source": [
        "!git checkout add-colab-support"
      ],
      "metadata": {
        "colab": {
          "base_uri": "https://localhost:8080/"
        },
        "id": "Y4PnVNM4BtAw",
        "outputId": "e565f5fe-707a-4512-a0c3-8fde4a24e75b"
      },
      "execution_count": null,
      "outputs": [
        {
          "output_type": "stream",
          "name": "stdout",
          "text": [
            "Branch 'add-colab-support' set up to track remote branch 'add-colab-support' from 'origin'.\n",
            "Switched to a new branch 'add-colab-support'\n"
          ]
        }
      ]
    },
    {
      "cell_type": "code",
      "source": [
        "!pip install -r requirements-colab.txt"
      ],
      "metadata": {
        "colab": {
          "base_uri": "https://localhost:8080/"
        },
        "id": "if0OF9MZB0OJ",
        "outputId": "330eb5ee-62e9-42a5-b920-04ac1bdf1f3b"
      },
      "execution_count": null,
      "outputs": [
        {
          "output_type": "stream",
          "name": "stdout",
          "text": [
            "Looking in indexes: https://pypi.org/simple, https://us-python.pkg.dev/colab-wheels/public/simple/\n",
            "Requirement already satisfied: transformers==4.26.1 in /usr/local/lib/python3.9/dist-packages (from -r requirements-colab.txt (line 1)) (4.26.1)\n",
            "Requirement already satisfied: albumentations==1.3.0 in /usr/local/lib/python3.9/dist-packages (from -r requirements-colab.txt (line 2)) (1.3.0)\n",
            "Requirement already satisfied: opencv-contrib-python in /usr/local/lib/python3.9/dist-packages (from -r requirements-colab.txt (line 3)) (4.6.0.66)\n",
            "Requirement already satisfied: imageio==2.9.0 in /usr/local/lib/python3.9/dist-packages (from -r requirements-colab.txt (line 4)) (2.9.0)\n",
            "Requirement already satisfied: imageio-ffmpeg==0.4.2 in /usr/local/lib/python3.9/dist-packages (from -r requirements-colab.txt (line 5)) (0.4.2)\n",
            "Requirement already satisfied: pytorch-lightning in /usr/local/lib/python3.9/dist-packages (from -r requirements-colab.txt (line 6)) (1.6.5)\n",
            "Requirement already satisfied: omegaconf==2.1.1 in /usr/local/lib/python3.9/dist-packages (from -r requirements-colab.txt (line 7)) (2.1.1)\n",
            "Requirement already satisfied: test-tube>=0.7.5 in /usr/local/lib/python3.9/dist-packages (from -r requirements-colab.txt (line 8)) (0.7.5)\n",
            "Requirement already satisfied: streamlit==1.12.1 in /usr/local/lib/python3.9/dist-packages (from -r requirements-colab.txt (line 9)) (1.12.1)\n",
            "Requirement already satisfied: einops==0.3.0 in /usr/local/lib/python3.9/dist-packages (from -r requirements-colab.txt (line 10)) (0.3.0)\n",
            "Requirement already satisfied: webdataset==0.2.5 in /usr/local/lib/python3.9/dist-packages (from -r requirements-colab.txt (line 11)) (0.2.5)\n",
            "Requirement already satisfied: kornia==0.6 in /usr/local/lib/python3.9/dist-packages (from -r requirements-colab.txt (line 12)) (0.6.0)\n",
            "Requirement already satisfied: open_clip_torch==2.0.2 in /usr/local/lib/python3.9/dist-packages (from -r requirements-colab.txt (line 13)) (2.0.2)\n",
            "Requirement already satisfied: invisible-watermark>=0.1.5 in /usr/local/lib/python3.9/dist-packages (from -r requirements-colab.txt (line 14)) (0.1.5)\n",
            "Requirement already satisfied: streamlit-drawable-canvas==0.8.0 in /usr/local/lib/python3.9/dist-packages (from -r requirements-colab.txt (line 15)) (0.8.0)\n",
            "Requirement already satisfied: torchmetrics==0.6.0 in /usr/local/lib/python3.9/dist-packages (from -r requirements-colab.txt (line 16)) (0.6.0)\n",
            "Requirement already satisfied: timm==0.6.12 in /usr/local/lib/python3.9/dist-packages (from -r requirements-colab.txt (line 17)) (0.6.12)\n",
            "Requirement already satisfied: addict==2.4.0 in /usr/local/lib/python3.9/dist-packages (from -r requirements-colab.txt (line 18)) (2.4.0)\n",
            "Requirement already satisfied: yapf==0.32.0 in /usr/local/lib/python3.9/dist-packages (from -r requirements-colab.txt (line 19)) (0.32.0)\n",
            "Requirement already satisfied: prettytable==3.6.0 in /usr/local/lib/python3.9/dist-packages (from -r requirements-colab.txt (line 20)) (3.6.0)\n",
            "Requirement already satisfied: safetensors==0.2.7 in /usr/local/lib/python3.9/dist-packages (from -r requirements-colab.txt (line 21)) (0.2.7)\n",
            "Requirement already satisfied: basicsr==1.4.2 in /usr/local/lib/python3.9/dist-packages (from -r requirements-colab.txt (line 22)) (1.4.2)\n",
            "Requirement already satisfied: langchain==0.0.101 in /usr/local/lib/python3.9/dist-packages (from -r requirements-colab.txt (line 23)) (0.0.101)\n",
            "Requirement already satisfied: diffusers in /usr/local/lib/python3.9/dist-packages (from -r requirements-colab.txt (line 24)) (0.14.0)\n",
            "Requirement already satisfied: gradio in /usr/local/lib/python3.9/dist-packages (from -r requirements-colab.txt (line 25)) (3.20.1)\n",
            "Requirement already satisfied: openai==0.27.0 in /usr/local/lib/python3.9/dist-packages (from -r requirements-colab.txt (line 26)) (0.27.0)\n",
            "Requirement already satisfied: accelerate in /usr/local/lib/python3.9/dist-packages (from -r requirements-colab.txt (line 27)) (0.17.0)\n",
            "Requirement already satisfied: pyyaml>=5.1 in /usr/local/lib/python3.9/dist-packages (from transformers==4.26.1->-r requirements-colab.txt (line 1)) (6.0)\n",
            "Requirement already satisfied: tokenizers!=0.11.3,<0.14,>=0.11.1 in /usr/local/lib/python3.9/dist-packages (from transformers==4.26.1->-r requirements-colab.txt (line 1)) (0.13.2)\n",
            "Requirement already satisfied: requests in /usr/local/lib/python3.9/dist-packages (from transformers==4.26.1->-r requirements-colab.txt (line 1)) (2.25.1)\n",
            "Requirement already satisfied: huggingface-hub<1.0,>=0.11.0 in /usr/local/lib/python3.9/dist-packages (from transformers==4.26.1->-r requirements-colab.txt (line 1)) (0.13.1)\n",
            "Requirement already satisfied: packaging>=20.0 in /usr/local/lib/python3.9/dist-packages (from transformers==4.26.1->-r requirements-colab.txt (line 1)) (23.0)\n",
            "Requirement already satisfied: tqdm>=4.27 in /usr/local/lib/python3.9/dist-packages (from transformers==4.26.1->-r requirements-colab.txt (line 1)) (4.65.0)\n",
            "Requirement already satisfied: numpy>=1.17 in /usr/local/lib/python3.9/dist-packages (from transformers==4.26.1->-r requirements-colab.txt (line 1)) (1.22.4)\n",
            "Requirement already satisfied: filelock in /usr/local/lib/python3.9/dist-packages (from transformers==4.26.1->-r requirements-colab.txt (line 1)) (3.9.0)\n",
            "Requirement already satisfied: regex!=2019.12.17 in /usr/local/lib/python3.9/dist-packages (from transformers==4.26.1->-r requirements-colab.txt (line 1)) (2022.6.2)\n",
            "Requirement already satisfied: scipy in /usr/local/lib/python3.9/dist-packages (from albumentations==1.3.0->-r requirements-colab.txt (line 2)) (1.10.1)\n",
            "Requirement already satisfied: opencv-python-headless>=4.1.1 in /usr/local/lib/python3.9/dist-packages (from albumentations==1.3.0->-r requirements-colab.txt (line 2)) (4.7.0.72)\n",
            "Requirement already satisfied: scikit-image>=0.16.1 in /usr/local/lib/python3.9/dist-packages (from albumentations==1.3.0->-r requirements-colab.txt (line 2)) (0.19.3)\n",
            "Requirement already satisfied: qudida>=0.0.4 in /usr/local/lib/python3.9/dist-packages (from albumentations==1.3.0->-r requirements-colab.txt (line 2)) (0.0.4)\n",
            "Requirement already satisfied: pillow in /usr/local/lib/python3.9/dist-packages (from imageio==2.9.0->-r requirements-colab.txt (line 4)) (8.4.0)\n",
            "Requirement already satisfied: antlr4-python3-runtime==4.8 in /usr/local/lib/python3.9/dist-packages (from omegaconf==2.1.1->-r requirements-colab.txt (line 7)) (4.8)\n",
            "Requirement already satisfied: pydeck>=0.1.dev5 in /usr/local/lib/python3.9/dist-packages (from streamlit==1.12.1->-r requirements-colab.txt (line 9)) (0.8.0)\n",
            "Requirement already satisfied: typing-extensions>=3.10.0.0 in /usr/local/lib/python3.9/dist-packages (from streamlit==1.12.1->-r requirements-colab.txt (line 9)) (4.5.0)\n",
            "Requirement already satisfied: watchdog in /usr/local/lib/python3.9/dist-packages (from streamlit==1.12.1->-r requirements-colab.txt (line 9)) (2.3.1)\n",
            "Requirement already satisfied: importlib-metadata>=1.4 in /usr/local/lib/python3.9/dist-packages (from streamlit==1.12.1->-r requirements-colab.txt (line 9)) (6.0.0)\n",
            "Requirement already satisfied: pympler>=0.9 in /usr/local/lib/python3.9/dist-packages (from streamlit==1.12.1->-r requirements-colab.txt (line 9)) (1.0.1)\n",
            "Requirement already satisfied: toml in /usr/local/lib/python3.9/dist-packages (from streamlit==1.12.1->-r requirements-colab.txt (line 9)) (0.10.2)\n",
            "Requirement already satisfied: pandas>=0.21.0 in /usr/local/lib/python3.9/dist-packages (from streamlit==1.12.1->-r requirements-colab.txt (line 9)) (1.3.5)\n",
            "Requirement already satisfied: altair>=3.2.0 in /usr/local/lib/python3.9/dist-packages (from streamlit==1.12.1->-r requirements-colab.txt (line 9)) (4.2.2)\n",
            "Requirement already satisfied: pyarrow>=4.0 in /usr/local/lib/python3.9/dist-packages (from streamlit==1.12.1->-r requirements-colab.txt (line 9)) (9.0.0)\n",
            "Requirement already satisfied: validators>=0.2 in /usr/local/lib/python3.9/dist-packages (from streamlit==1.12.1->-r requirements-colab.txt (line 9)) (0.20.0)\n",
            "Requirement already satisfied: python-dateutil in /usr/local/lib/python3.9/dist-packages (from streamlit==1.12.1->-r requirements-colab.txt (line 9)) (2.8.2)\n",
            "Requirement already satisfied: rich>=10.11.0 in /usr/local/lib/python3.9/dist-packages (from streamlit==1.12.1->-r requirements-colab.txt (line 9)) (13.3.2)\n",
            "Requirement already satisfied: click>=7.0 in /usr/local/lib/python3.9/dist-packages (from streamlit==1.12.1->-r requirements-colab.txt (line 9)) (8.1.3)\n",
            "Requirement already satisfied: tzlocal>=1.1 in /usr/local/lib/python3.9/dist-packages (from streamlit==1.12.1->-r requirements-colab.txt (line 9)) (4.2)\n",
            "Requirement already satisfied: blinker>=1.0.0 in /usr/local/lib/python3.9/dist-packages (from streamlit==1.12.1->-r requirements-colab.txt (line 9)) (1.5)\n",
            "Requirement already satisfied: protobuf<4,>=3.12 in /usr/local/lib/python3.9/dist-packages (from streamlit==1.12.1->-r requirements-colab.txt (line 9)) (3.19.6)\n",
            "Requirement already satisfied: semver in /usr/local/lib/python3.9/dist-packages (from streamlit==1.12.1->-r requirements-colab.txt (line 9)) (2.13.0)\n",
            "Requirement already satisfied: cachetools>=4.0 in /usr/local/lib/python3.9/dist-packages (from streamlit==1.12.1->-r requirements-colab.txt (line 9)) (5.3.0)\n",
            "Requirement already satisfied: gitpython!=3.1.19 in /usr/local/lib/python3.9/dist-packages (from streamlit==1.12.1->-r requirements-colab.txt (line 9)) (3.1.31)\n",
            "Requirement already satisfied: tornado>=5.0 in /usr/local/lib/python3.9/dist-packages (from streamlit==1.12.1->-r requirements-colab.txt (line 9)) (6.2)\n",
            "Requirement already satisfied: braceexpand in /usr/local/lib/python3.9/dist-packages (from webdataset==0.2.5->-r requirements-colab.txt (line 11)) (0.1.7)\n",
            "Requirement already satisfied: torch>=1.8.1 in /usr/local/lib/python3.9/dist-packages (from kornia==0.6->-r requirements-colab.txt (line 12)) (1.13.1+cu116)\n",
            "Requirement already satisfied: torchvision in /usr/local/lib/python3.9/dist-packages (from open_clip_torch==2.0.2->-r requirements-colab.txt (line 13)) (0.14.1+cu116)\n",
            "Requirement already satisfied: ftfy in /usr/local/lib/python3.9/dist-packages (from open_clip_torch==2.0.2->-r requirements-colab.txt (line 13)) (6.1.1)\n",
            "Requirement already satisfied: wcwidth in /usr/local/lib/python3.9/dist-packages (from prettytable==3.6.0->-r requirements-colab.txt (line 20)) (0.2.6)\n",
            "Requirement already satisfied: lmdb in /usr/local/lib/python3.9/dist-packages (from basicsr==1.4.2->-r requirements-colab.txt (line 22)) (1.4.0)\n",
            "Requirement already satisfied: opencv-python in /usr/local/lib/python3.9/dist-packages (from basicsr==1.4.2->-r requirements-colab.txt (line 22)) (4.6.0.66)\n",
            "Requirement already satisfied: tb-nightly in /usr/local/lib/python3.9/dist-packages (from basicsr==1.4.2->-r requirements-colab.txt (line 22)) (2.12.0a20230126)\n",
            "Requirement already satisfied: future in /usr/local/lib/python3.9/dist-packages (from basicsr==1.4.2->-r requirements-colab.txt (line 22)) (0.16.0)\n",
            "Requirement already satisfied: aiohttp<4.0.0,>=3.8.3 in /usr/local/lib/python3.9/dist-packages (from langchain==0.0.101->-r requirements-colab.txt (line 23)) (3.8.4)\n",
            "Requirement already satisfied: SQLAlchemy<2,>=1 in /usr/local/lib/python3.9/dist-packages (from langchain==0.0.101->-r requirements-colab.txt (line 23)) (1.4.46)\n",
            "Requirement already satisfied: tenacity<9.0.0,>=8.1.0 in /usr/local/lib/python3.9/dist-packages (from langchain==0.0.101->-r requirements-colab.txt (line 23)) (8.2.2)\n",
            "Requirement already satisfied: dataclasses-json<0.6.0,>=0.5.7 in /usr/local/lib/python3.9/dist-packages (from langchain==0.0.101->-r requirements-colab.txt (line 23)) (0.5.7)\n",
            "Requirement already satisfied: pydantic<2,>=1 in /usr/local/lib/python3.9/dist-packages (from langchain==0.0.101->-r requirements-colab.txt (line 23)) (1.10.5)\n",
            "Requirement already satisfied: pyDeprecate>=0.3.1 in /usr/local/lib/python3.9/dist-packages (from pytorch-lightning->-r requirements-colab.txt (line 6)) (0.3.2)\n",
            "Requirement already satisfied: fsspec[http]!=2021.06.0,>=2021.05.0 in /usr/local/lib/python3.9/dist-packages (from pytorch-lightning->-r requirements-colab.txt (line 6)) (2023.3.0)\n",
            "Requirement already satisfied: tensorboard>=2.2.0 in /usr/local/lib/python3.9/dist-packages (from pytorch-lightning->-r requirements-colab.txt (line 6)) (2.11.2)\n",
            "Requirement already satisfied: onnxruntime in /usr/local/lib/python3.9/dist-packages (from invisible-watermark>=0.1.5->-r requirements-colab.txt (line 14)) (1.14.1)\n",
            "Requirement already satisfied: PyWavelets>=1.1.1 in /usr/local/lib/python3.9/dist-packages (from invisible-watermark>=0.1.5->-r requirements-colab.txt (line 14)) (1.4.1)\n",
            "Requirement already satisfied: onnx in /usr/local/lib/python3.9/dist-packages (from invisible-watermark>=0.1.5->-r requirements-colab.txt (line 14)) (1.12.0)\n",
            "Requirement already satisfied: httpx in /usr/local/lib/python3.9/dist-packages (from gradio->-r requirements-colab.txt (line 25)) (0.23.3)\n",
            "Requirement already satisfied: python-multipart in /usr/local/lib/python3.9/dist-packages (from gradio->-r requirements-colab.txt (line 25)) (0.0.6)\n",
            "Requirement already satisfied: uvicorn in /usr/local/lib/python3.9/dist-packages (from gradio->-r requirements-colab.txt (line 25)) (0.21.0)\n",
            "Requirement already satisfied: websockets>=10.0 in /usr/local/lib/python3.9/dist-packages (from gradio->-r requirements-colab.txt (line 25)) (10.4)\n",
            "Requirement already satisfied: matplotlib in /usr/local/lib/python3.9/dist-packages (from gradio->-r requirements-colab.txt (line 25)) (3.5.3)\n",
            "Requirement already satisfied: orjson in /usr/local/lib/python3.9/dist-packages (from gradio->-r requirements-colab.txt (line 25)) (3.8.7)\n",
            "Requirement already satisfied: pydub in /usr/local/lib/python3.9/dist-packages (from gradio->-r requirements-colab.txt (line 25)) (0.25.1)\n",
            "Requirement already satisfied: ffmpy in /usr/local/lib/python3.9/dist-packages (from gradio->-r requirements-colab.txt (line 25)) (0.3.0)\n",
            "Requirement already satisfied: mdit-py-plugins<=0.3.3 in /usr/local/lib/python3.9/dist-packages (from gradio->-r requirements-colab.txt (line 25)) (0.3.3)\n",
            "Requirement already satisfied: markupsafe in /usr/local/lib/python3.9/dist-packages (from gradio->-r requirements-colab.txt (line 25)) (2.1.2)\n",
            "Requirement already satisfied: jinja2 in /usr/local/lib/python3.9/dist-packages (from gradio->-r requirements-colab.txt (line 25)) (3.1.2)\n",
            "Requirement already satisfied: markdown-it-py[linkify]>=2.0.0 in /usr/local/lib/python3.9/dist-packages (from gradio->-r requirements-colab.txt (line 25)) (2.2.0)\n",
            "Requirement already satisfied: aiofiles in /usr/local/lib/python3.9/dist-packages (from gradio->-r requirements-colab.txt (line 25)) (23.1.0)\n",
            "Requirement already satisfied: pycryptodome in /usr/local/lib/python3.9/dist-packages (from gradio->-r requirements-colab.txt (line 25)) (3.17)\n",
            "Requirement already satisfied: fastapi in /usr/local/lib/python3.9/dist-packages (from gradio->-r requirements-colab.txt (line 25)) (0.93.0)\n",
            "Requirement already satisfied: psutil in /usr/local/lib/python3.9/dist-packages (from accelerate->-r requirements-colab.txt (line 27)) (5.4.8)\n",
            "Requirement already satisfied: frozenlist>=1.1.1 in /usr/local/lib/python3.9/dist-packages (from aiohttp<4.0.0,>=3.8.3->langchain==0.0.101->-r requirements-colab.txt (line 23)) (1.3.3)\n",
            "Requirement already satisfied: attrs>=17.3.0 in /usr/local/lib/python3.9/dist-packages (from aiohttp<4.0.0,>=3.8.3->langchain==0.0.101->-r requirements-colab.txt (line 23)) (22.2.0)\n",
            "Requirement already satisfied: yarl<2.0,>=1.0 in /usr/local/lib/python3.9/dist-packages (from aiohttp<4.0.0,>=3.8.3->langchain==0.0.101->-r requirements-colab.txt (line 23)) (1.8.2)\n",
            "Requirement already satisfied: aiosignal>=1.1.2 in /usr/local/lib/python3.9/dist-packages (from aiohttp<4.0.0,>=3.8.3->langchain==0.0.101->-r requirements-colab.txt (line 23)) (1.3.1)\n",
            "Requirement already satisfied: async-timeout<5.0,>=4.0.0a3 in /usr/local/lib/python3.9/dist-packages (from aiohttp<4.0.0,>=3.8.3->langchain==0.0.101->-r requirements-colab.txt (line 23)) (4.0.2)\n",
            "Requirement already satisfied: charset-normalizer<4.0,>=2.0 in /usr/local/lib/python3.9/dist-packages (from aiohttp<4.0.0,>=3.8.3->langchain==0.0.101->-r requirements-colab.txt (line 23)) (3.1.0)\n",
            "Requirement already satisfied: multidict<7.0,>=4.5 in /usr/local/lib/python3.9/dist-packages (from aiohttp<4.0.0,>=3.8.3->langchain==0.0.101->-r requirements-colab.txt (line 23)) (6.0.4)\n",
            "Requirement already satisfied: jsonschema>=3.0 in /usr/local/lib/python3.9/dist-packages (from altair>=3.2.0->streamlit==1.12.1->-r requirements-colab.txt (line 9)) (4.3.3)\n",
            "Requirement already satisfied: entrypoints in /usr/local/lib/python3.9/dist-packages (from altair>=3.2.0->streamlit==1.12.1->-r requirements-colab.txt (line 9)) (0.4)\n",
            "Requirement already satisfied: toolz in /usr/local/lib/python3.9/dist-packages (from altair>=3.2.0->streamlit==1.12.1->-r requirements-colab.txt (line 9)) (0.12.0)\n",
            "Requirement already satisfied: marshmallow-enum<2.0.0,>=1.5.1 in /usr/local/lib/python3.9/dist-packages (from dataclasses-json<0.6.0,>=0.5.7->langchain==0.0.101->-r requirements-colab.txt (line 23)) (1.5.1)\n",
            "Requirement already satisfied: typing-inspect>=0.4.0 in /usr/local/lib/python3.9/dist-packages (from dataclasses-json<0.6.0,>=0.5.7->langchain==0.0.101->-r requirements-colab.txt (line 23)) (0.8.0)\n",
            "Requirement already satisfied: marshmallow<4.0.0,>=3.3.0 in /usr/local/lib/python3.9/dist-packages (from dataclasses-json<0.6.0,>=0.5.7->langchain==0.0.101->-r requirements-colab.txt (line 23)) (3.19.0)\n",
            "Requirement already satisfied: gitdb<5,>=4.0.1 in /usr/local/lib/python3.9/dist-packages (from gitpython!=3.1.19->streamlit==1.12.1->-r requirements-colab.txt (line 9)) (4.0.10)\n",
            "Requirement already satisfied: zipp>=0.5 in /usr/local/lib/python3.9/dist-packages (from importlib-metadata>=1.4->streamlit==1.12.1->-r requirements-colab.txt (line 9)) (3.15.0)\n",
            "Requirement already satisfied: mdurl~=0.1 in /usr/local/lib/python3.9/dist-packages (from markdown-it-py[linkify]>=2.0.0->gradio->-r requirements-colab.txt (line 25)) (0.1.2)\n",
            "Requirement already satisfied: linkify-it-py<3,>=1 in /usr/local/lib/python3.9/dist-packages (from markdown-it-py[linkify]>=2.0.0->gradio->-r requirements-colab.txt (line 25)) (2.0.0)\n",
            "Requirement already satisfied: pytz>=2017.3 in /usr/local/lib/python3.9/dist-packages (from pandas>=0.21.0->streamlit==1.12.1->-r requirements-colab.txt (line 9)) (2022.7.1)\n",
            "Requirement already satisfied: six>=1.5 in /usr/local/lib/python3.9/dist-packages (from python-dateutil->streamlit==1.12.1->-r requirements-colab.txt (line 9)) (1.15.0)\n",
            "Requirement already satisfied: scikit-learn>=0.19.1 in /usr/local/lib/python3.9/dist-packages (from qudida>=0.0.4->albumentations==1.3.0->-r requirements-colab.txt (line 2)) (1.2.1)\n",
            "Requirement already satisfied: urllib3<1.27,>=1.21.1 in /usr/local/lib/python3.9/dist-packages (from requests->transformers==4.26.1->-r requirements-colab.txt (line 1)) (1.26.14)\n",
            "Requirement already satisfied: certifi>=2017.4.17 in /usr/local/lib/python3.9/dist-packages (from requests->transformers==4.26.1->-r requirements-colab.txt (line 1)) (2022.12.7)\n",
            "Requirement already satisfied: chardet<5,>=3.0.2 in /usr/local/lib/python3.9/dist-packages (from requests->transformers==4.26.1->-r requirements-colab.txt (line 1)) (4.0.0)\n",
            "Requirement already satisfied: idna<3,>=2.5 in /usr/local/lib/python3.9/dist-packages (from requests->transformers==4.26.1->-r requirements-colab.txt (line 1)) (2.10)\n",
            "Requirement already satisfied: pygments<3.0.0,>=2.13.0 in /usr/local/lib/python3.9/dist-packages (from rich>=10.11.0->streamlit==1.12.1->-r requirements-colab.txt (line 9)) (2.14.0)\n",
            "Requirement already satisfied: networkx>=2.2 in /usr/local/lib/python3.9/dist-packages (from scikit-image>=0.16.1->albumentations==1.3.0->-r requirements-colab.txt (line 2)) (3.0)\n",
            "Requirement already satisfied: tifffile>=2019.7.26 in /usr/local/lib/python3.9/dist-packages (from scikit-image>=0.16.1->albumentations==1.3.0->-r requirements-colab.txt (line 2)) (2023.2.28)\n",
            "Requirement already satisfied: greenlet!=0.4.17 in /usr/local/lib/python3.9/dist-packages (from SQLAlchemy<2,>=1->langchain==0.0.101->-r requirements-colab.txt (line 23)) (2.0.2)\n",
            "Requirement already satisfied: wheel>=0.26 in /usr/local/lib/python3.9/dist-packages (from tensorboard>=2.2.0->pytorch-lightning->-r requirements-colab.txt (line 6)) (0.38.4)\n",
            "Requirement already satisfied: grpcio>=1.24.3 in /usr/local/lib/python3.9/dist-packages (from tensorboard>=2.2.0->pytorch-lightning->-r requirements-colab.txt (line 6)) (1.51.3)\n",
            "Requirement already satisfied: google-auth-oauthlib<0.5,>=0.4.1 in /usr/local/lib/python3.9/dist-packages (from tensorboard>=2.2.0->pytorch-lightning->-r requirements-colab.txt (line 6)) (0.4.6)\n",
            "Requirement already satisfied: markdown>=2.6.8 in /usr/local/lib/python3.9/dist-packages (from tensorboard>=2.2.0->pytorch-lightning->-r requirements-colab.txt (line 6)) (3.4.1)\n",
            "Requirement already satisfied: tensorboard-plugin-wit>=1.6.0 in /usr/local/lib/python3.9/dist-packages (from tensorboard>=2.2.0->pytorch-lightning->-r requirements-colab.txt (line 6)) (1.8.1)\n",
            "Requirement already satisfied: werkzeug>=1.0.1 in /usr/local/lib/python3.9/dist-packages (from tensorboard>=2.2.0->pytorch-lightning->-r requirements-colab.txt (line 6)) (2.2.3)\n",
            "Requirement already satisfied: google-auth<3,>=1.6.3 in /usr/local/lib/python3.9/dist-packages (from tensorboard>=2.2.0->pytorch-lightning->-r requirements-colab.txt (line 6)) (2.16.2)\n",
            "Requirement already satisfied: absl-py>=0.4 in /usr/local/lib/python3.9/dist-packages (from tensorboard>=2.2.0->pytorch-lightning->-r requirements-colab.txt (line 6)) (1.4.0)\n",
            "Requirement already satisfied: setuptools>=41.0.0 in /usr/local/lib/python3.9/dist-packages (from tensorboard>=2.2.0->pytorch-lightning->-r requirements-colab.txt (line 6)) (57.4.0)\n",
            "Requirement already satisfied: tensorboard-data-server<0.7.0,>=0.6.0 in /usr/local/lib/python3.9/dist-packages (from tensorboard>=2.2.0->pytorch-lightning->-r requirements-colab.txt (line 6)) (0.6.1)\n",
            "Requirement already satisfied: pytz-deprecation-shim in /usr/local/lib/python3.9/dist-packages (from tzlocal>=1.1->streamlit==1.12.1->-r requirements-colab.txt (line 9)) (0.1.0.post0)\n",
            "Requirement already satisfied: decorator>=3.4.0 in /usr/local/lib/python3.9/dist-packages (from validators>=0.2->streamlit==1.12.1->-r requirements-colab.txt (line 9)) (4.4.2)\n",
            "Requirement already satisfied: starlette<0.26.0,>=0.25.0 in /usr/local/lib/python3.9/dist-packages (from fastapi->gradio->-r requirements-colab.txt (line 25)) (0.25.0)\n",
            "Requirement already satisfied: rfc3986[idna2008]<2,>=1.3 in /usr/local/lib/python3.9/dist-packages (from httpx->gradio->-r requirements-colab.txt (line 25)) (1.5.0)\n",
            "Requirement already satisfied: httpcore<0.17.0,>=0.15.0 in /usr/local/lib/python3.9/dist-packages (from httpx->gradio->-r requirements-colab.txt (line 25)) (0.16.3)\n",
            "Requirement already satisfied: sniffio in /usr/local/lib/python3.9/dist-packages (from httpx->gradio->-r requirements-colab.txt (line 25)) (1.3.0)\n",
            "Requirement already satisfied: pyparsing>=2.2.1 in /usr/local/lib/python3.9/dist-packages (from matplotlib->gradio->-r requirements-colab.txt (line 25)) (3.0.9)\n",
            "Requirement already satisfied: kiwisolver>=1.0.1 in /usr/local/lib/python3.9/dist-packages (from matplotlib->gradio->-r requirements-colab.txt (line 25)) (1.4.4)\n",
            "Requirement already satisfied: fonttools>=4.22.0 in /usr/local/lib/python3.9/dist-packages (from matplotlib->gradio->-r requirements-colab.txt (line 25)) (4.39.0)\n",
            "Requirement already satisfied: cycler>=0.10 in /usr/local/lib/python3.9/dist-packages (from matplotlib->gradio->-r requirements-colab.txt (line 25)) (0.11.0)\n",
            "Requirement already satisfied: coloredlogs in /usr/local/lib/python3.9/dist-packages (from onnxruntime->invisible-watermark>=0.1.5->-r requirements-colab.txt (line 14)) (15.0.1)\n",
            "Requirement already satisfied: sympy in /usr/local/lib/python3.9/dist-packages (from onnxruntime->invisible-watermark>=0.1.5->-r requirements-colab.txt (line 14)) (1.7.1)\n",
            "Requirement already satisfied: flatbuffers in /usr/local/lib/python3.9/dist-packages (from onnxruntime->invisible-watermark>=0.1.5->-r requirements-colab.txt (line 14)) (23.3.3)\n",
            "Requirement already satisfied: h11>=0.8 in /usr/local/lib/python3.9/dist-packages (from uvicorn->gradio->-r requirements-colab.txt (line 25)) (0.14.0)\n",
            "Requirement already satisfied: smmap<6,>=3.0.1 in /usr/local/lib/python3.9/dist-packages (from gitdb<5,>=4.0.1->gitpython!=3.1.19->streamlit==1.12.1->-r requirements-colab.txt (line 9)) (5.0.0)\n",
            "Requirement already satisfied: pyasn1-modules>=0.2.1 in /usr/local/lib/python3.9/dist-packages (from google-auth<3,>=1.6.3->tensorboard>=2.2.0->pytorch-lightning->-r requirements-colab.txt (line 6)) (0.2.8)\n",
            "Requirement already satisfied: rsa<5,>=3.1.4 in /usr/local/lib/python3.9/dist-packages (from google-auth<3,>=1.6.3->tensorboard>=2.2.0->pytorch-lightning->-r requirements-colab.txt (line 6)) (4.9)\n",
            "Requirement already satisfied: requests-oauthlib>=0.7.0 in /usr/local/lib/python3.9/dist-packages (from google-auth-oauthlib<0.5,>=0.4.1->tensorboard>=2.2.0->pytorch-lightning->-r requirements-colab.txt (line 6)) (1.3.1)\n",
            "Requirement already satisfied: anyio<5.0,>=3.0 in /usr/local/lib/python3.9/dist-packages (from httpcore<0.17.0,>=0.15.0->httpx->gradio->-r requirements-colab.txt (line 25)) (3.6.2)\n",
            "Requirement already satisfied: pyrsistent!=0.17.0,!=0.17.1,!=0.17.2,>=0.14.0 in /usr/local/lib/python3.9/dist-packages (from jsonschema>=3.0->altair>=3.2.0->streamlit==1.12.1->-r requirements-colab.txt (line 9)) (0.19.3)\n",
            "Requirement already satisfied: uc-micro-py in /usr/local/lib/python3.9/dist-packages (from linkify-it-py<3,>=1->markdown-it-py[linkify]>=2.0.0->gradio->-r requirements-colab.txt (line 25)) (1.0.1)\n",
            "Requirement already satisfied: threadpoolctl>=2.0.0 in /usr/local/lib/python3.9/dist-packages (from scikit-learn>=0.19.1->qudida>=0.0.4->albumentations==1.3.0->-r requirements-colab.txt (line 2)) (3.1.0)\n",
            "Requirement already satisfied: joblib>=1.1.1 in /usr/local/lib/python3.9/dist-packages (from scikit-learn>=0.19.1->qudida>=0.0.4->albumentations==1.3.0->-r requirements-colab.txt (line 2)) (1.2.0)\n",
            "Requirement already satisfied: mypy-extensions>=0.3.0 in /usr/local/lib/python3.9/dist-packages (from typing-inspect>=0.4.0->dataclasses-json<0.6.0,>=0.5.7->langchain==0.0.101->-r requirements-colab.txt (line 23)) (1.0.0)\n",
            "Requirement already satisfied: humanfriendly>=9.1 in /usr/local/lib/python3.9/dist-packages (from coloredlogs->onnxruntime->invisible-watermark>=0.1.5->-r requirements-colab.txt (line 14)) (10.0)\n",
            "Requirement already satisfied: tzdata in /usr/local/lib/python3.9/dist-packages (from pytz-deprecation-shim->tzlocal>=1.1->streamlit==1.12.1->-r requirements-colab.txt (line 9)) (2022.7)\n",
            "Requirement already satisfied: mpmath>=0.19 in /usr/local/lib/python3.9/dist-packages (from sympy->onnxruntime->invisible-watermark>=0.1.5->-r requirements-colab.txt (line 14)) (1.2.1)\n",
            "Requirement already satisfied: pyasn1<0.5.0,>=0.4.6 in /usr/local/lib/python3.9/dist-packages (from pyasn1-modules>=0.2.1->google-auth<3,>=1.6.3->tensorboard>=2.2.0->pytorch-lightning->-r requirements-colab.txt (line 6)) (0.4.8)\n",
            "Requirement already satisfied: oauthlib>=3.0.0 in /usr/local/lib/python3.9/dist-packages (from requests-oauthlib>=0.7.0->google-auth-oauthlib<0.5,>=0.4.1->tensorboard>=2.2.0->pytorch-lightning->-r requirements-colab.txt (line 6)) (3.2.2)\n"
          ]
        }
      ]
    },
    {
      "cell_type": "code",
      "source": [
        "# Download controlnet (ldm dependency)\n",
        "!chmod +x download.sh\n",
        "!./download.sh"
      ],
      "metadata": {
        "colab": {
          "base_uri": "https://localhost:8080/"
        },
        "id": "x3nPU9mCHA-x",
        "outputId": "9d5f9d51-1d96-4a74-dc29-45ea9eeaaf0a"
      },
      "execution_count": null,
      "outputs": [
        {
          "output_type": "stream",
          "name": "stdout",
          "text": [
            "Cloning into 'ControlNet'...\n",
            "remote: Enumerating objects: 1264, done.\u001b[K\n",
            "remote: Counting objects: 100% (12/12), done.\u001b[K\n",
            "remote: Compressing objects: 100% (12/12), done.\u001b[K\n",
            "remote: Total 1264 (delta 6), reused 2 (delta 0), pack-reused 1252\u001b[K\n",
            "Receiving objects: 100% (1264/1264), 122.36 MiB | 25.30 MiB/s, done.\n",
            "Resolving deltas: 100% (547/547), done.\n",
            "--2023-03-10 10:17:14--  https://huggingface.co/lllyasviel/ControlNet/resolve/main/models/control_sd15_canny.pth\n",
            "Resolving huggingface.co (huggingface.co)... 18.214.156.133, 52.2.183.177, 23.23.168.37, ...\n",
            "Connecting to huggingface.co (huggingface.co)|18.214.156.133|:443... connected.\n",
            "HTTP request sent, awaiting response... 302 Found\n",
            "Location: https://cdn-lfs.huggingface.co/repos/f6/65/f665e553e8fd16131981a96c629e785939f08080bb3cbf8d2b7f5ddbd9e6100a/4de384b16bc2d7a1fb258ca0cbd941d7dd0a721ae996aff89f905299d6923f45?response-content-disposition=attachment%3B+filename*%3DUTF-8%27%27control_sd15_canny.pth%3B+filename%3D%22control_sd15_canny.pth%22%3B&Expires=1678701656&Policy=eyJTdGF0ZW1lbnQiOlt7IlJlc291cmNlIjoiaHR0cHM6Ly9jZG4tbGZzLmh1Z2dpbmdmYWNlLmNvL3JlcG9zL2Y2LzY1L2Y2NjVlNTUzZThmZDE2MTMxOTgxYTk2YzYyOWU3ODU5MzlmMDgwODBiYjNjYmY4ZDJiN2Y1ZGRiZDllNjEwMGEvNGRlMzg0YjE2YmMyZDdhMWZiMjU4Y2EwY2JkOTQxZDdkZDBhNzIxYWU5OTZhZmY4OWY5MDUyOTlkNjkyM2Y0NT9yZXNwb25zZS1jb250ZW50LWRpc3Bvc2l0aW9uPSoiLCJDb25kaXRpb24iOnsiRGF0ZUxlc3NUaGFuIjp7IkFXUzpFcG9jaFRpbWUiOjE2Nzg3MDE2NTZ9fX1dfQ__&Signature=SJ1mpa9AZnuBuANCf6R0%7EB19R9BvTFIFQQFTcizjZYhqcZTUTHD1JCa8rTLI7vEV2ydb0tSiyEzehvDrFR6fRxq3abkjur0WOXwwLQZFw3KE3%7ErJilHk7MNeGESnm9dwdgAymnh7a5Lvgod91fez6v1zMoCqndHyI69F2%7E9Sx4HBw6cS7dY1lXn4mlADaL3cDHrtBEPJtQm%7EA5RnRFaaXZtyMeGyqL-9xiHeVA2kFFdU34otEO31QbW8dDyHno2l0GiXbXSujPhDL7tPzq1EELQ1w5k27nxy6%7EHrSUOWng5OMut8pVkFs7nyDr51TKvYgt0Ynd5ps2aYubybQilQTQ__&Key-Pair-Id=KVTP0A1DKRTAX [following]\n",
            "--2023-03-10 10:17:14--  https://cdn-lfs.huggingface.co/repos/f6/65/f665e553e8fd16131981a96c629e785939f08080bb3cbf8d2b7f5ddbd9e6100a/4de384b16bc2d7a1fb258ca0cbd941d7dd0a721ae996aff89f905299d6923f45?response-content-disposition=attachment%3B+filename*%3DUTF-8%27%27control_sd15_canny.pth%3B+filename%3D%22control_sd15_canny.pth%22%3B&Expires=1678701656&Policy=eyJTdGF0ZW1lbnQiOlt7IlJlc291cmNlIjoiaHR0cHM6Ly9jZG4tbGZzLmh1Z2dpbmdmYWNlLmNvL3JlcG9zL2Y2LzY1L2Y2NjVlNTUzZThmZDE2MTMxOTgxYTk2YzYyOWU3ODU5MzlmMDgwODBiYjNjYmY4ZDJiN2Y1ZGRiZDllNjEwMGEvNGRlMzg0YjE2YmMyZDdhMWZiMjU4Y2EwY2JkOTQxZDdkZDBhNzIxYWU5OTZhZmY4OWY5MDUyOTlkNjkyM2Y0NT9yZXNwb25zZS1jb250ZW50LWRpc3Bvc2l0aW9uPSoiLCJDb25kaXRpb24iOnsiRGF0ZUxlc3NUaGFuIjp7IkFXUzpFcG9jaFRpbWUiOjE2Nzg3MDE2NTZ9fX1dfQ__&Signature=SJ1mpa9AZnuBuANCf6R0%7EB19R9BvTFIFQQFTcizjZYhqcZTUTHD1JCa8rTLI7vEV2ydb0tSiyEzehvDrFR6fRxq3abkjur0WOXwwLQZFw3KE3%7ErJilHk7MNeGESnm9dwdgAymnh7a5Lvgod91fez6v1zMoCqndHyI69F2%7E9Sx4HBw6cS7dY1lXn4mlADaL3cDHrtBEPJtQm%7EA5RnRFaaXZtyMeGyqL-9xiHeVA2kFFdU34otEO31QbW8dDyHno2l0GiXbXSujPhDL7tPzq1EELQ1w5k27nxy6%7EHrSUOWng5OMut8pVkFs7nyDr51TKvYgt0Ynd5ps2aYubybQilQTQ__&Key-Pair-Id=KVTP0A1DKRTAX\n",
            "Resolving cdn-lfs.huggingface.co (cdn-lfs.huggingface.co)... 65.9.86.70, 65.9.86.14, 65.9.86.11, ...\n",
            "Connecting to cdn-lfs.huggingface.co (cdn-lfs.huggingface.co)|65.9.86.70|:443... connected.\n",
            "HTTP request sent, awaiting response... 200 OK\n",
            "Length: 5710753329 (5.3G) [binary/octet-stream]\n",
            "Saving to: ‘control_sd15_canny.pth’\n",
            "\n",
            "control_sd15_canny. 100%[===================>]   5.32G   226MB/s    in 23s     \n",
            "\n",
            "2023-03-10 10:17:37 (239 MB/s) - ‘control_sd15_canny.pth’ saved [5710753329/5710753329]\n",
            "\n",
            "--2023-03-10 10:17:38--  https://huggingface.co/lllyasviel/ControlNet/resolve/main/models/control_sd15_depth.pth\n",
            "Resolving huggingface.co (huggingface.co)... 18.214.156.133, 52.2.183.177, 23.23.168.37, ...\n",
            "Connecting to huggingface.co (huggingface.co)|18.214.156.133|:443... connected.\n",
            "HTTP request sent, awaiting response... 302 Found\n",
            "Location: https://cdn-lfs.huggingface.co/repos/f6/65/f665e553e8fd16131981a96c629e785939f08080bb3cbf8d2b7f5ddbd9e6100a/726cd0b472c4b5c0341b01afcb7fdc4a7b4ab7c37fe797fd394c9805cbef60bf?response-content-disposition=attachment%3B+filename*%3DUTF-8%27%27control_sd15_depth.pth%3B+filename%3D%22control_sd15_depth.pth%22%3B&Expires=1678702318&Policy=eyJTdGF0ZW1lbnQiOlt7IlJlc291cmNlIjoiaHR0cHM6Ly9jZG4tbGZzLmh1Z2dpbmdmYWNlLmNvL3JlcG9zL2Y2LzY1L2Y2NjVlNTUzZThmZDE2MTMxOTgxYTk2YzYyOWU3ODU5MzlmMDgwODBiYjNjYmY4ZDJiN2Y1ZGRiZDllNjEwMGEvNzI2Y2QwYjQ3MmM0YjVjMDM0MWIwMWFmY2I3ZmRjNGE3YjRhYjdjMzdmZTc5N2ZkMzk0Yzk4MDVjYmVmNjBiZj9yZXNwb25zZS1jb250ZW50LWRpc3Bvc2l0aW9uPSoiLCJDb25kaXRpb24iOnsiRGF0ZUxlc3NUaGFuIjp7IkFXUzpFcG9jaFRpbWUiOjE2Nzg3MDIzMTh9fX1dfQ__&Signature=Q-rye8LGQG9md2qKehvOPYZRTEhEB4xELHGM0RtNQgHwMGeQntfFvJfmue9Dlt9GCWMzzK3L9ijyNWjrtCNsyh8sxDt9XVcdX3q2uNqW0lWWQLDdEgx%7EE4hqtS4SO9ZMjggKTtD9gxMXB5isSOHm5glh5sYVEomorDzvSPaWurHA4csomd5qMeK4CxKFI%7EYG1yPNFQXSWXE1480OzWw8e7CCSbOur9CdaINHcV7WnjXLSeEI5h0lc9LZbbYAFdogPZqwptvCHCL1jMmIY4as6rEvWb6vZomzRm3tqrVheetdJMZcSXCLP4XgfkV9jRih4o%7E3Nm%7ERZXoEzx%7EWqSEXeg__&Key-Pair-Id=KVTP0A1DKRTAX [following]\n",
            "--2023-03-10 10:17:38--  https://cdn-lfs.huggingface.co/repos/f6/65/f665e553e8fd16131981a96c629e785939f08080bb3cbf8d2b7f5ddbd9e6100a/726cd0b472c4b5c0341b01afcb7fdc4a7b4ab7c37fe797fd394c9805cbef60bf?response-content-disposition=attachment%3B+filename*%3DUTF-8%27%27control_sd15_depth.pth%3B+filename%3D%22control_sd15_depth.pth%22%3B&Expires=1678702318&Policy=eyJTdGF0ZW1lbnQiOlt7IlJlc291cmNlIjoiaHR0cHM6Ly9jZG4tbGZzLmh1Z2dpbmdmYWNlLmNvL3JlcG9zL2Y2LzY1L2Y2NjVlNTUzZThmZDE2MTMxOTgxYTk2YzYyOWU3ODU5MzlmMDgwODBiYjNjYmY4ZDJiN2Y1ZGRiZDllNjEwMGEvNzI2Y2QwYjQ3MmM0YjVjMDM0MWIwMWFmY2I3ZmRjNGE3YjRhYjdjMzdmZTc5N2ZkMzk0Yzk4MDVjYmVmNjBiZj9yZXNwb25zZS1jb250ZW50LWRpc3Bvc2l0aW9uPSoiLCJDb25kaXRpb24iOnsiRGF0ZUxlc3NUaGFuIjp7IkFXUzpFcG9jaFRpbWUiOjE2Nzg3MDIzMTh9fX1dfQ__&Signature=Q-rye8LGQG9md2qKehvOPYZRTEhEB4xELHGM0RtNQgHwMGeQntfFvJfmue9Dlt9GCWMzzK3L9ijyNWjrtCNsyh8sxDt9XVcdX3q2uNqW0lWWQLDdEgx%7EE4hqtS4SO9ZMjggKTtD9gxMXB5isSOHm5glh5sYVEomorDzvSPaWurHA4csomd5qMeK4CxKFI%7EYG1yPNFQXSWXE1480OzWw8e7CCSbOur9CdaINHcV7WnjXLSeEI5h0lc9LZbbYAFdogPZqwptvCHCL1jMmIY4as6rEvWb6vZomzRm3tqrVheetdJMZcSXCLP4XgfkV9jRih4o%7E3Nm%7ERZXoEzx%7EWqSEXeg__&Key-Pair-Id=KVTP0A1DKRTAX\n",
            "Resolving cdn-lfs.huggingface.co (cdn-lfs.huggingface.co)... 65.9.86.70, 65.9.86.14, 65.9.86.11, ...\n",
            "Connecting to cdn-lfs.huggingface.co (cdn-lfs.huggingface.co)|65.9.86.70|:443... connected.\n",
            "HTTP request sent, awaiting response... 200 OK\n",
            "Length: 5710753329 (5.3G) [binary/octet-stream]\n",
            "Saving to: ‘control_sd15_depth.pth’\n",
            "\n",
            "control_sd15_depth.  59%[==========>         ]   3.15G   233MB/s    eta 10s    ^C\n"
          ]
        }
      ]
    },
    {
      "cell_type": "code",
      "source": [
        "%env OPENAI_API_KEY=your_Private_Openai_Key"
      ],
      "metadata": {
        "id": "9PIoqUALCozz",
        "colab": {
          "base_uri": "https://localhost:8080/"
        },
        "outputId": "46dbcf55-6ae8-43c1-f086-262fa929f1a7"
      },
      "execution_count": null,
      "outputs": [
        {
          "output_type": "stream",
          "name": "stdout",
          "text": [
            "env: OPENAI_API_KEY=your_Private_Openai_Key\n"
          ]
        }
      ]
    },
    {
      "cell_type": "code",
      "source": [
        "!mkdir ./image"
      ],
      "metadata": {
        "id": "mzyD2F5LC0Ow",
        "colab": {
          "base_uri": "https://localhost:8080/"
        },
        "outputId": "bdfaaf1a-816a-467a-db0f-e1fae149199c"
      },
      "execution_count": null,
      "outputs": [
        {
          "output_type": "stream",
          "name": "stdout",
          "text": [
            "mkdir: cannot create directory ‘./image’: File exists\n"
          ]
        }
      ]
    },
    {
      "cell_type": "code",
      "source": [
        "!python visual_chatgpt.py --share"
      ],
      "metadata": {
        "colab": {
          "base_uri": "https://localhost:8080/"
        },
        "id": "Cgpnh8vhC47R",
        "outputId": "20991cf4-fdcd-4cc6-f358-400bdbbbca8e"
      },
      "execution_count": null,
      "outputs": [
        {
          "output_type": "stream",
          "name": "stdout",
          "text": [
            "Traceback (most recent call last):\n",
            "  File \"/content/visual-chatgpt/visual-chatgpt/visual-chatgpt/visual-chatgpt/visual-chatgpt/visual-chatgpt/visual-chatgpt/visual-chatgpt/visual_chatgpt.py\", line 6, in <module>\n",
            "    import gradio as gr\n",
            "  File \"/usr/local/lib/python3.9/dist-packages/gradio/__init__.py\", line 3, in <module>\n",
            "    import gradio.components as components\n",
            "  File \"/usr/local/lib/python3.9/dist-packages/gradio/components.py\", line 32, in <module>\n",
            "    from gradio import media_data, processing_utils, utils\n",
            "  File \"/usr/local/lib/python3.9/dist-packages/gradio/processing_utils.py\", line 25, in <module>\n",
            "    from gradio import encryptor, utils\n",
            "  File \"/usr/local/lib/python3.9/dist-packages/gradio/utils.py\", line 41, in <module>\n",
            "    import httpx\n",
            "  File \"/usr/local/lib/python3.9/dist-packages/httpx/__init__.py\", line 2, in <module>\n",
            "    from ._api import delete, get, head, options, patch, post, put, request, stream\n",
            "  File \"/usr/local/lib/python3.9/dist-packages/httpx/_api.py\", line 4, in <module>\n",
            "    from ._client import Client\n",
            "  File \"/usr/local/lib/python3.9/dist-packages/httpx/_client.py\", line 9, in <module>\n",
            "    from ._auth import Auth, BasicAuth, FunctionAuth\n",
            "  File \"/usr/local/lib/python3.9/dist-packages/httpx/_auth.py\", line 10, in <module>\n",
            "    from ._models import Request, Response\n",
            "  File \"/usr/local/lib/python3.9/dist-packages/httpx/_models.py\", line 44, in <module>\n",
            "    from ._urls import URL\n",
            "  File \"/usr/local/lib/python3.9/dist-packages/httpx/_urls.py\", line 5, in <module>\n",
            "    import rfc3986\n",
            "  File \"/usr/local/lib/python3.9/dist-packages/rfc3986/__init__.py\", line 25, in <module>\n",
            "    from .api import iri_reference\n",
            "  File \"/usr/local/lib/python3.9/dist-packages/rfc3986/api.py\", line 22, in <module>\n",
            "    from .iri import IRIReference\n",
            "  File \"/usr/local/lib/python3.9/dist-packages/rfc3986/iri.py\", line 21, in <module>\n",
            "    from . import misc\n",
            "  File \"/usr/local/lib/python3.9/dist-packages/rfc3986/misc.py\", line 52, in <module>\n",
            "    SUBAUTHORITY_MATCHER = re.compile(\n",
            "  File \"/usr/lib/python3.9/re.py\", line 252, in compile\n",
            "    return _compile(pattern, flags)\n",
            "  File \"/usr/lib/python3.9/re.py\", line 304, in _compile\n",
            "    p = sre_compile.compile(pattern, flags)\n",
            "  File \"/usr/lib/python3.9/sre_compile.py\", line 788, in compile\n",
            "    p = sre_parse.parse(p, flags)\n",
            "  File \"/usr/lib/python3.9/sre_parse.py\", line 955, in parse\n",
            "    p = _parse_sub(source, state, flags & SRE_FLAG_VERBOSE, 0)\n",
            "  File \"/usr/lib/python3.9/sre_parse.py\", line 444, in _parse_sub\n",
            "    itemsappend(_parse(source, state, verbose, nested + 1,\n",
            "  File \"/usr/lib/python3.9/sre_parse.py\", line 841, in _parse\n",
            "    p = _parse_sub(source, state, sub_verbose, nested + 1)\n",
            "  File \"/usr/lib/python3.9/sre_parse.py\", line 444, in _parse_sub\n",
            "    itemsappend(_parse(source, state, verbose, nested + 1,\n",
            "  File \"/usr/lib/python3.9/sre_parse.py\", line 841, in _parse\n",
            "    p = _parse_sub(source, state, sub_verbose, nested + 1)\n",
            "  File \"/usr/lib/python3.9/sre_parse.py\", line 444, in _parse_sub\n",
            "    itemsappend(_parse(source, state, verbose, nested + 1,\n",
            "  File \"/usr/lib/python3.9/sre_parse.py\", line 841, in _parse\n",
            "    p = _parse_sub(source, state, sub_verbose, nested + 1)\n",
            "  File \"/usr/lib/python3.9/sre_parse.py\", line 444, in _parse_sub\n",
            "    itemsappend(_parse(source, state, verbose, nested + 1,\n",
            "  File \"/usr/lib/python3.9/sre_parse.py\", line 841, in _parse\n",
            "    p = _parse_sub(source, state, sub_verbose, nested + 1)\n",
            "  File \"/usr/lib/python3.9/sre_parse.py\", line 444, in _parse_sub\n",
            "    itemsappend(_parse(source, state, verbose, nested + 1,\n",
            "  File \"/usr/lib/python3.9/sre_parse.py\", line 841, in _parse\n",
            "    p = _parse_sub(source, state, sub_verbose, nested + 1)\n",
            "  File \"/usr/lib/python3.9/sre_parse.py\", line 444, in _parse_sub\n",
            "    itemsappend(_parse(source, state, verbose, nested + 1,\n",
            "  File \"/usr/lib/python3.9/sre_parse.py\", line 841, in _parse\n",
            "    p = _parse_sub(source, state, sub_verbose, nested + 1)\n",
            "  File \"/usr/lib/python3.9/sre_parse.py\", line 444, in _parse_sub\n",
            "    itemsappend(_parse(source, state, verbose, nested + 1,\n",
            "  File \"/usr/lib/python3.9/sre_parse.py\", line 841, in _parse\n",
            "    p = _parse_sub(source, state, sub_verbose, nested + 1)\n",
            "  File \"/usr/lib/python3.9/sre_parse.py\", line 444, in _parse_sub\n",
            "    itemsappend(_parse(source, state, verbose, nested + 1,\n",
            "  File \"/usr/lib/python3.9/sre_parse.py\", line 606, in _parse\n",
            "    set = _uniq(set)\n",
            "  File \"/usr/lib/python3.9/sre_parse.py\", line 434, in _uniq\n",
            "    return list(dict.fromkeys(items))\n",
            "KeyboardInterrupt\n",
            "^C\n"
          ]
        }
      ]
    }
  ]
}